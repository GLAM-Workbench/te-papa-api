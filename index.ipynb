{
 "cells": [
  {
   "cell_type": "markdown",
   "id": "634b0528",
   "metadata": {},
   "source": [
    "# Te Papa collections\n",
    "\n",
    "Current version: [v1.0.0](https://github.com/GLAM-Workbench/te-papa-api/releases/tag/v1.0.0)\n",
    "\n",
    "Jupyter notebooks to work with data from [Te Papa's collections API](https://data.tepapa.govt.nz/docs/index.html). For more information see the [Te Papa](https://glam-workbench.net/tepapa/) section of the GLAM Workbench.\n",
    "\n",
    "## Notebook topics\n",
    "\n",
    "* [**Exploring the Te Papa collection API**](Exploring-the-Te-Papa-collection-API.ipynb) — some preliminary poking around, focusing in particular on using facets and nested records\n",
    "* [**Mapping Te Papa's collections**](Mapping-Te-Papa-collections.ipynb) — create some simple maps using the `production.spatial` facet of the Te Papa API to identify places where collection objects were created"
   ]
  },
  {
   "cell_type": "markdown",
   "id": "54f8b989",
   "metadata": {},
   "source": [
    "## Cite as\n",
    "\n",
    "See the GLAM Workbench or [Zenodo](https://doi.org/10.5281/zenodo.3549094) for up-to-date citation details.\n",
    "\n",
    "----\n",
    "\n",
    "This repository is part of the [GLAM Workbench](https://glam-workbench.net/). If you think this project is worthwhile, you can become [a GitHub sponsor](https://github.com/sponsors/wragge?o=esb)."
   ]
  }
 ],
 "metadata": {
  "jupytext": {
   "cell_metadata_filter": "-all"
  },
  "kernelspec": {
   "display_name": "Python 3 (ipykernel)",
   "language": "python",
   "name": "python3"
  }
 },
 "nbformat": 4,
 "nbformat_minor": 5
}
